{
 "cells": [
  {
   "cell_type": "code",
   "execution_count": null,
   "metadata": {},
   "outputs": [],
   "source": [
    "%env CUDA_DEVICE_ORDER=PCI_BUS_ID\n",
    "%env CUDA_VISIBLE_DEVICES=3"
   ]
  },
  {
   "cell_type": "code",
   "execution_count": null,
   "metadata": {},
   "outputs": [],
   "source": [
    "import torch\n",
    "from pytorch_pretrained_biggan import (\n",
    "    BigGAN,\n",
    "    truncated_noise_sample,\n",
    "    one_hot_from_int\n",
    ")\n",
    "import PIL.Image\n",
    "import numpy as np\n",
    "import os\n",
    "import glob\n",
    "import argparse\n",
    "from tqdm import tqdm\n",
    "import json\n",
    "import pickle\n",
    "import matplotlib.pyplot as plt\n",
    "import utils_bigbigan as ubigbi\n",
    "\n",
    "model = BigGAN.from_pretrained('biggan-deep-256').cuda()"
   ]
  },
  {
   "cell_type": "code",
   "execution_count": null,
   "metadata": {},
   "outputs": [],
   "source": [
    "def convert_to_images(obj):\n",
    "    \"\"\" Convert an output tensor from BigGAN in a list of images.\n",
    "    \"\"\"\n",
    "    # need to fix import, see: https://github.com/huggingface/pytorch-pretrained-BigGAN/pull/14/commits/68a7446951f0b9400ebc7baf466ccc48cdf1b14c\n",
    "    if not isinstance(obj, np.ndarray):\n",
    "        obj = obj.detach().numpy()\n",
    "    obj = obj.transpose((0, 2, 3, 1))\n",
    "    obj = np.clip(((obj + 1) / 2.0) * 256, 0, 255)\n",
    "    img = []\n",
    "    for i, out in enumerate(obj):\n",
    "        out_array = np.asarray(np.uint8(out), dtype=np.uint8)\n",
    "        img.append(PIL.Image.fromarray(out_array))\n",
    "    return img"
   ]
  },
  {
   "cell_type": "code",
   "execution_count": null,
   "metadata": {},
   "outputs": [],
   "source": [
    "w_zoom = np.load('../../../gan_steerability/w_zoom.npy')\n",
    "\n",
    "\n",
    "bs = 4\n",
    "truncation = 1.0\n",
    "seed = 0\n",
    "idx_rnd = np.random.randint(1000, size=bs)\n",
    "idx_rnd = [207, 207, 207, 207]\n",
    "noise_vector = truncated_noise_sample(truncation=truncation,\n",
    "                                      batch_size=bs,\n",
    "                                      seed=seed)\n",
    "\n",
    "\n",
    "class_vector = one_hot_from_int(idx_rnd, batch_size=bs)\n",
    "class_vector = torch.from_numpy(class_vector).cuda()\n",
    "noise_vector = torch.from_numpy(noise_vector + w_zoom).cuda()\n",
    "\n",
    "# from model\n",
    "with torch.no_grad():\n",
    "    output = model(noise_vector, class_vector, truncation=1.0)\n",
    "output = output.cpu()\n",
    "ims = convert_to_images(output)\n",
    "ubigbi.imshow(ubigbi.imgrid(np.stack(ims), cols=4))"
   ]
  },
  {
   "cell_type": "code",
   "execution_count": null,
   "metadata": {},
   "outputs": [],
   "source": [
    "w_zoom = np.load('../../../gan_steerability/w_zoom.npy')"
   ]
  },
  {
   "cell_type": "code",
   "execution_count": null,
   "metadata": {},
   "outputs": [],
   "source": []
  },
  {
   "cell_type": "code",
   "execution_count": null,
   "metadata": {},
   "outputs": [],
   "source": []
  }
 ],
 "metadata": {
  "kernelspec": {
   "display_name": "Python (myenvpy36tf)",
   "language": "python",
   "name": "myenvpy36tf"
  },
  "language_info": {
   "codemirror_mode": {
    "name": "ipython",
    "version": 3
   },
   "file_extension": ".py",
   "mimetype": "text/x-python",
   "name": "python",
   "nbconvert_exporter": "python",
   "pygments_lexer": "ipython3",
   "version": "3.6.9"
  }
 },
 "nbformat": 4,
 "nbformat_minor": 4
}
