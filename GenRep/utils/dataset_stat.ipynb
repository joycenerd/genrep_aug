{
 "cells": [
  {
   "cell_type": "code",
   "execution_count": 1,
   "metadata": {},
   "outputs": [],
   "source": [
    "import glob\n",
    "import os\n",
    "from shutil import copyfile"
   ]
  },
  {
   "cell_type": "code",
   "execution_count": 3,
   "metadata": {},
   "outputs": [],
   "source": [
    "# dir_path = '/data/vision/phillipi/ganclr/datasets/bigbi_resnet_128_gauss1_std0.1_imagenet100_N20'\n",
    "dir_path = '/data/vision/phillipi/ganclr/datasets/bigbi_resnet_128_gauss1_std0.05_imagenet100_N20'\n",
    "list_dirs = glob.glob(os.path.join(dir_path, 'train', '*'))"
   ]
  },
  {
   "cell_type": "code",
   "execution_count": 4,
   "metadata": {},
   "outputs": [
    {
     "name": "stdout",
     "output_type": "stream",
     "text": [
      "101\n"
     ]
    }
   ],
   "source": [
    "num_classes = len(list_dirs)\n",
    "print(num_classes)"
   ]
  },
  {
   "cell_type": "code",
   "execution_count": 5,
   "metadata": {},
   "outputs": [
    {
     "name": "stdout",
     "output_type": "stream",
     "text": [
      "/data/vision/phillipi/ganclr/datasets/bigbi_resnet_128_gauss1_std0.05_imagenet100_N20/train/index.html\n"
     ]
    }
   ],
   "source": [
    "for i in range(num_classes):\n",
    "    num_imgs = len(glob.glob(os.path.join(list_dirs[i], '*.png')))\n",
    "    if num_imgs != 1300*21:\n",
    "        print(list_dirs[i])\n",
    "    "
   ]
  },
  {
   "cell_type": "code",
   "execution_count": 2,
   "metadata": {},
   "outputs": [
    {
     "name": "stdout",
     "output_type": "stream",
     "text": [
      "bigbigan100\r\n",
      "bigbigan_online\r\n",
      "bigbigan_steer_composite1_N20\r\n",
      "bigbigan_steer_composite2_N20\r\n",
      "bigbi_resnet_128_gauss1_std0.05_imagenet100_N20\r\n",
      "bigbi_resnet_128_gauss1_std0.1_imagenet100_N20\r\n",
      "bigbi_resnet_128_gauss1_std0.1_imagenet100_N5\r\n",
      "bigbi_resnet_128_gauss1_std0.2_imagenet100_N20\r\n",
      "bigbi_resnet_128_gauss1_std0.3_imagenet100_N20\r\n",
      "bigbi-resnet_128_gauss_angular_std0.2_imagenet100_N20\r\n",
      "bigbi-resnet_128_gauss_angular_std0.3_imagenet100_N20\r\n",
      "big_deep256_tr1.0_gauss1_std1.0_imagenet100_N20\r\n",
      "big_deep256_tr1.0_gauss_angular_std1.0_imagenet100_N20\r\n",
      "big_deep256_tr1.0_steer_composite1_imagenet100_N20\r\n",
      "big_deep256_tr1.0_steer_composite1_imagenet100_N5\r\n",
      "biggan256tr1-png_rnd_indep_1_samples\r\n",
      "biggan256tr1-png_rnd_indep_20_samples\r\n",
      "steer_bigbigan\r\n",
      "steer_bigbigan_2\r\n",
      "steer_bigbigan_3\r\n",
      "steer_bigbigan_4\r\n",
      "steer_bigbigan_5\r\n",
      "steer_bigbigan_6\r\n",
      "steer_bigbigan_6_small_shift_rot\r\n",
      "steer_bigbigan_small_alphas\r\n",
      "steer_bigbigan_small_rot2d_10\r\n"
     ]
    }
   ],
   "source": [
    "!ls '/data/vision/phillipi/ganclr/datasets/'"
   ]
  },
  {
   "cell_type": "code",
   "execution_count": null,
   "metadata": {},
   "outputs": [],
   "source": [
    "for i in range(num_classes):\n",
    "    cls_list = glob.glob(os.path.join(list_dirs[i], '*anchor.png'))\n",
    "    for ii in range(len(cls_list)):\n",
    "        copyfile(cls_list[ii], cls_list[ii].replace('bigbi_resnet_128_gauss1_std0.3_imagenet100_N20', 'bigbigan100'))\n",
    "    "
   ]
  },
  {
   "cell_type": "code",
   "execution_count": null,
   "metadata": {},
   "outputs": [],
   "source": [
    "glob.glob(os.path.join(list_dirs[0], '*anchor.png'))"
   ]
  },
  {
   "cell_type": "code",
   "execution_count": null,
   "metadata": {},
   "outputs": [],
   "source": [
    "for i in range(len(list_dirs)):\n",
    "    os.makedirs(list_dirs[i].replace('bigbi_resnet_128_gauss1_std0.3_imagenet100_N20', 'bigbigan100'))"
   ]
  },
  {
   "cell_type": "code",
   "execution_count": null,
   "metadata": {},
   "outputs": [],
   "source": [
    "list_dirs[0]"
   ]
  },
  {
   "cell_type": "code",
   "execution_count": null,
   "metadata": {},
   "outputs": [],
   "source": []
  }
 ],
 "metadata": {
  "kernelspec": {
   "display_name": "Python (stenv)",
   "language": "python",
   "name": "stenv"
  },
  "language_info": {
   "codemirror_mode": {
    "name": "ipython",
    "version": 3
   },
   "file_extension": ".py",
   "mimetype": "text/x-python",
   "name": "python",
   "nbconvert_exporter": "python",
   "pygments_lexer": "ipython3",
   "version": "3.6.11"
  }
 },
 "nbformat": 4,
 "nbformat_minor": 4
}
