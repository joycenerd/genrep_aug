{
 "cells": [
  {
   "cell_type": "code",
   "execution_count": 1,
   "metadata": {},
   "outputs": [
    {
     "name": "stdout",
     "output_type": "stream",
     "text": [
      "env: CUDA_DEVICE_ORDER=PCI_BUS_ID\n",
      "env: CUDA_VISIBLE_DEVICES=3\n"
     ]
    }
   ],
   "source": [
    "%env CUDA_DEVICE_ORDER=PCI_BUS_ID\n",
    "%env CUDA_VISIBLE_DEVICES=3"
   ]
  },
  {
   "cell_type": "code",
   "execution_count": 2,
   "metadata": {},
   "outputs": [
    {
     "name": "stderr",
     "output_type": "stream",
     "text": [
      "/afs/csail.mit.edu/u/j/jahanian/.conda/envs/stenv/lib/python3.6/site-packages/tensorflow/python/framework/dtypes.py:516: FutureWarning: Passing (type, 1) or '1type' as a synonym of type is deprecated; in a future version of numpy, it will be understood as (type, (1,)) / '(1,)type'.\n",
      "  _np_qint8 = np.dtype([(\"qint8\", np.int8, 1)])\n",
      "/afs/csail.mit.edu/u/j/jahanian/.conda/envs/stenv/lib/python3.6/site-packages/tensorflow/python/framework/dtypes.py:517: FutureWarning: Passing (type, 1) or '1type' as a synonym of type is deprecated; in a future version of numpy, it will be understood as (type, (1,)) / '(1,)type'.\n",
      "  _np_quint8 = np.dtype([(\"quint8\", np.uint8, 1)])\n",
      "/afs/csail.mit.edu/u/j/jahanian/.conda/envs/stenv/lib/python3.6/site-packages/tensorflow/python/framework/dtypes.py:518: FutureWarning: Passing (type, 1) or '1type' as a synonym of type is deprecated; in a future version of numpy, it will be understood as (type, (1,)) / '(1,)type'.\n",
      "  _np_qint16 = np.dtype([(\"qint16\", np.int16, 1)])\n",
      "/afs/csail.mit.edu/u/j/jahanian/.conda/envs/stenv/lib/python3.6/site-packages/tensorflow/python/framework/dtypes.py:519: FutureWarning: Passing (type, 1) or '1type' as a synonym of type is deprecated; in a future version of numpy, it will be understood as (type, (1,)) / '(1,)type'.\n",
      "  _np_quint16 = np.dtype([(\"quint16\", np.uint16, 1)])\n",
      "/afs/csail.mit.edu/u/j/jahanian/.conda/envs/stenv/lib/python3.6/site-packages/tensorflow/python/framework/dtypes.py:520: FutureWarning: Passing (type, 1) or '1type' as a synonym of type is deprecated; in a future version of numpy, it will be understood as (type, (1,)) / '(1,)type'.\n",
      "  _np_qint32 = np.dtype([(\"qint32\", np.int32, 1)])\n",
      "/afs/csail.mit.edu/u/j/jahanian/.conda/envs/stenv/lib/python3.6/site-packages/tensorflow/python/framework/dtypes.py:525: FutureWarning: Passing (type, 1) or '1type' as a synonym of type is deprecated; in a future version of numpy, it will be understood as (type, (1,)) / '(1,)type'.\n",
      "  np_resource = np.dtype([(\"resource\", np.ubyte, 1)])\n",
      "/afs/csail.mit.edu/u/j/jahanian/.conda/envs/stenv/lib/python3.6/site-packages/tensorboard/compat/tensorflow_stub/dtypes.py:541: FutureWarning: Passing (type, 1) or '1type' as a synonym of type is deprecated; in a future version of numpy, it will be understood as (type, (1,)) / '(1,)type'.\n",
      "  _np_qint8 = np.dtype([(\"qint8\", np.int8, 1)])\n",
      "/afs/csail.mit.edu/u/j/jahanian/.conda/envs/stenv/lib/python3.6/site-packages/tensorboard/compat/tensorflow_stub/dtypes.py:542: FutureWarning: Passing (type, 1) or '1type' as a synonym of type is deprecated; in a future version of numpy, it will be understood as (type, (1,)) / '(1,)type'.\n",
      "  _np_quint8 = np.dtype([(\"quint8\", np.uint8, 1)])\n",
      "/afs/csail.mit.edu/u/j/jahanian/.conda/envs/stenv/lib/python3.6/site-packages/tensorboard/compat/tensorflow_stub/dtypes.py:543: FutureWarning: Passing (type, 1) or '1type' as a synonym of type is deprecated; in a future version of numpy, it will be understood as (type, (1,)) / '(1,)type'.\n",
      "  _np_qint16 = np.dtype([(\"qint16\", np.int16, 1)])\n",
      "/afs/csail.mit.edu/u/j/jahanian/.conda/envs/stenv/lib/python3.6/site-packages/tensorboard/compat/tensorflow_stub/dtypes.py:544: FutureWarning: Passing (type, 1) or '1type' as a synonym of type is deprecated; in a future version of numpy, it will be understood as (type, (1,)) / '(1,)type'.\n",
      "  _np_quint16 = np.dtype([(\"quint16\", np.uint16, 1)])\n",
      "/afs/csail.mit.edu/u/j/jahanian/.conda/envs/stenv/lib/python3.6/site-packages/tensorboard/compat/tensorflow_stub/dtypes.py:545: FutureWarning: Passing (type, 1) or '1type' as a synonym of type is deprecated; in a future version of numpy, it will be understood as (type, (1,)) / '(1,)type'.\n",
      "  _np_qint32 = np.dtype([(\"qint32\", np.int32, 1)])\n",
      "/afs/csail.mit.edu/u/j/jahanian/.conda/envs/stenv/lib/python3.6/site-packages/tensorboard/compat/tensorflow_stub/dtypes.py:550: FutureWarning: Passing (type, 1) or '1type' as a synonym of type is deprecated; in a future version of numpy, it will be understood as (type, (1,)) / '(1,)type'.\n",
      "  np_resource = np.dtype([(\"resource\", np.ubyte, 1)])\n"
     ]
    },
    {
     "name": "stdout",
     "output_type": "stream",
     "text": [
      "WARNING:tensorflow:From /afs/csail.mit.edu/u/j/jahanian/.conda/envs/stenv/lib/python3.6/site-packages/tensorflow/python/compat/v2_compat.py:61: disable_resource_variables (from tensorflow.python.ops.variable_scope) is deprecated and will be removed in a future version.\n",
      "Instructions for updating:\n",
      "non-resource variables are not supported in the long term\n"
     ]
    }
   ],
   "source": [
    "import torch\n",
    "from pytorch_pretrained_biggan import (\n",
    "    BigGAN,\n",
    "    truncated_noise_sample,\n",
    "    one_hot_from_int\n",
    ")\n",
    "import PIL.Image\n",
    "import numpy as np\n",
    "import os\n",
    "import argparse\n",
    "from tqdm import tqdm\n",
    "import json\n",
    "import pickle\n",
    "import matplotlib.pyplot as plt\n",
    "import utils_bigbigan as ubigbi\n",
    "\n",
    "model = BigGAN.from_pretrained('biggan-deep-256').cuda()"
   ]
  },
  {
   "cell_type": "code",
   "execution_count": 3,
   "metadata": {},
   "outputs": [],
   "source": [
    "def convert_to_images(obj):\n",
    "    \"\"\" Convert an output tensor from BigGAN in a list of images.\n",
    "    \"\"\"\n",
    "    # need to fix import, see: https://github.com/huggingface/pytorch-pretrained-BigGAN/pull/14/commits/68a7446951f0b9400ebc7baf466ccc48cdf1b14c\n",
    "    if not isinstance(obj, np.ndarray):\n",
    "        obj = obj.detach().numpy()\n",
    "    obj = obj.transpose((0, 2, 3, 1))\n",
    "    obj = np.clip(((obj + 1) / 2.0) * 256, 0, 255)\n",
    "    img = []\n",
    "    for i, out in enumerate(obj):\n",
    "        out_array = np.asarray(np.uint8(out), dtype=np.uint8)\n",
    "        img.append(PIL.Image.fromarray(out_array))\n",
    "    return img"
   ]
  },
  {
   "cell_type": "code",
   "execution_count": 8,
   "metadata": {},
   "outputs": [],
   "source": [
    "dataset_name = '/data/vision/phillipi/ganclr/datasets/biggan256tr1-png_paper_figure_10_samples'\n",
    "class_name = 'n02231487'\n",
    "with open(os.path.join(dataset_name, 'train', class_name, 'z_dataset.pkl') ,'rb') as fid:\n",
    "    z_d = pickle.load(fid)"
   ]
  },
  {
   "cell_type": "code",
   "execution_count": null,
   "metadata": {},
   "outputs": [],
   "source": [
    "A_z_list = []\n",
    "A_str_list =[]\n",
    "bs = 4\n",
    "idx_rnd = np.random.randint(1300, size=bs)\n",
    "idx_list = []\n",
    "for i in range(bs):\n",
    "    name = list(z_d.keys())[idx_rnd[i]]\n",
    "    A_str_list.append(name)\n",
    "    A_z_list.append(z_d[name][0])\n",
    "    idx_list.append(z_d[list(z_d.keys())[idx_rnd[i]]][1])\n",
    "\n",
    "\n",
    "class_vector = one_hot_from_int(idx_list, batch_size=bs)\n",
    "class_vector = torch.from_numpy(class_vector).cuda()\n",
    "noise_vector = torch.from_numpy(np.stack(A_z_list)).cuda()\n",
    "\n",
    "# from model\n",
    "with torch.no_grad():\n",
    "    output = model(noise_vector, class_vector, truncation=1.0)\n",
    "output = output.cpu()\n",
    "ims = convert_to_images(output)\n",
    "ubigbi.imshow(ubigbi.imgrid(np.stack(ims), cols=4))"
   ]
  },
  {
   "cell_type": "code",
   "execution_count": null,
   "metadata": {},
   "outputs": [],
   "source": [
    "# now from disk\n",
    "ims_disk = []\n",
    "for i in range(bs):\n",
    "    im = PIL.Image.open(os.path.join(dataset_name, 'train', class_name, A_str_list[i]))\n",
    "    ims_disk.append(im)\n",
    "ubigbi.imshow(ubigbi.imgrid(np.stack(ims_disk), cols=4))"
   ]
  },
  {
   "cell_type": "code",
   "execution_count": null,
   "metadata": {},
   "outputs": [],
   "source": [
    "B_str_list = []\n",
    "B_str_list.append('seed0994_sample01299_anchor.png')\n",
    "B_str_list.append('seed0994_sample01214_1.0_1.png')\n",
    "B_str_list.append('seed0994_sample00962_1.0_1.png')\n",
    "B_str_list.append('seed0994_sample01075_anchor.png')\n",
    "B_z_list = []\n",
    "idx_list = []\n",
    "for i in range(len(B_str_list)):\n",
    "    B_z_list.append(z_d[B_str_list[i]][0])\n",
    "    idx_list.append(z_d[B_str_list[i]][1])\n",
    "\n",
    "class_vector = one_hot_from_int(idx_list, batch_size=bs)\n",
    "class_vector = torch.from_numpy(class_vector).cuda()\n",
    "noise_vector = torch.from_numpy(np.stack(B_z_list)).cuda()\n",
    "\n",
    "# from model\n",
    "with torch.no_grad():\n",
    "    output = model(noise_vector, class_vector, truncation=1.0)\n",
    "output = output.cpu()\n",
    "ims = convert_to_images(output)\n",
    "ubigbi.imshow(ubigbi.imgrid(np.stack(ims), cols=4))\n",
    "\n",
    "# now from disk\n",
    "ims_disk = []\n",
    "for i in range(bs):\n",
    "    im = PIL.Image.open(os.path.join(dataset_name, 'train', class_name, B_str_list[i]))\n",
    "    ims_disk.append(im)\n",
    "ubigbi.imshow(ubigbi.imgrid(np.stack(ims_disk), cols=4))"
   ]
  },
  {
   "cell_type": "code",
   "execution_count": 9,
   "metadata": {},
   "outputs": [
    {
     "data": {
      "text/plain": [
       "210"
      ]
     },
     "execution_count": 9,
     "metadata": {},
     "output_type": "execute_result"
    }
   ],
   "source": [
    "len(z_d.keys())"
   ]
  },
  {
   "cell_type": "code",
   "execution_count": 14,
   "metadata": {},
   "outputs": [
    {
     "data": {
      "text/plain": [
       "[array([ 0.9696869 , -1.5022956 ,  1.9868112 ,  2.047441  ,  0.66491055,\n",
       "         0.13993809,  0.48872668,  0.22876877,  0.26554343,  0.9624948 ,\n",
       "        -1.5528227 ,  0.9562741 ,  1.7246914 ,  1.3230776 ,  0.64363205,\n",
       "        -0.51891255,  0.7672481 , -1.2031724 ,  2.1111617 ,  1.647719  ,\n",
       "        -1.8709643 , -2.2367384 , -0.98279727, -0.07452065,  0.48659796,\n",
       "         0.5637121 , -2.9666898 , -0.47821516,  1.544259  , -0.12092339,\n",
       "         1.3283062 , -0.25168955,  2.2286413 ,  2.651914  ,  0.75995266,\n",
       "        -0.3517795 , -0.3110422 , -1.0643257 , -0.8794848 , -0.00319077,\n",
       "         0.06570914, -0.6019136 ,  0.86606973,  1.1753898 ,  2.420297  ,\n",
       "         0.69352674, -0.5354007 , -0.6238876 ,  0.19461262,  0.06809068,\n",
       "        -0.06923448, -0.66976285, -1.3350623 ,  0.72886413,  1.3438145 ,\n",
       "         0.8670308 , -0.65357924,  1.8726108 , -1.4996046 ,  0.16940922,\n",
       "         0.22020459,  2.730825  ,  1.205796  ,  0.9836327 , -1.660442  ,\n",
       "        -1.4162284 ,  2.6179326 ,  0.5024657 , -1.3993988 ,  0.55736303,\n",
       "        -1.3598516 , -1.9332805 , -2.3026063 , -0.56613123,  0.09863265,\n",
       "        -0.4963709 , -0.2702772 , -0.52580845,  0.07184513,  0.6013771 ,\n",
       "         1.1928821 , -0.41730285,  1.0007626 ,  0.5921728 , -2.604082  ,\n",
       "         1.1401403 ,  0.22966248,  0.08988518, -0.2858876 ,  1.0577325 ,\n",
       "        -1.1477253 ,  2.2339783 ,  2.5105162 ,  0.20138085, -0.3462749 ,\n",
       "         0.7445175 ,  1.8155205 ,  2.5501113 , -0.08452003, -0.43354183,\n",
       "         1.4503478 , -0.9695451 ,  0.6172479 ,  1.8304572 ,  0.1777595 ,\n",
       "         0.21031532, -1.0065722 ,  0.3225215 , -0.6568774 ,  0.51659244,\n",
       "         0.26132005,  0.74904644,  1.1467456 ,  1.1668025 ,  1.6820667 ,\n",
       "         1.9799869 ,  1.0074133 , -0.7474146 ,  1.2566042 , -1.5007683 ,\n",
       "        -0.16610187, -0.9866494 , -1.9861813 ,  1.2231807 , -1.0796412 ,\n",
       "        -0.5905993 ,  0.8089922 ,  0.31365275], dtype=float32),\n",
       " 313]"
      ]
     },
     "execution_count": 14,
     "metadata": {},
     "output_type": "execute_result"
    }
   ],
   "source": [
    "z_d['seed0313_sample00000_ang_1.png']"
   ]
  },
  {
   "cell_type": "code",
   "execution_count": null,
   "metadata": {},
   "outputs": [],
   "source": []
  }
 ],
 "metadata": {
  "kernelspec": {
   "display_name": "Python (stenv)",
   "language": "python",
   "name": "stenv"
  },
  "language_info": {
   "codemirror_mode": {
    "name": "ipython",
    "version": 3
   },
   "file_extension": ".py",
   "mimetype": "text/x-python",
   "name": "python",
   "nbconvert_exporter": "python",
   "pygments_lexer": "ipython3",
   "version": "3.6.11"
  }
 },
 "nbformat": 4,
 "nbformat_minor": 4
}
